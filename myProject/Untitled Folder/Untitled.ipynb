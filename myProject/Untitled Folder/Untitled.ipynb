{
 "cells": [
  {
   "cell_type": "code",
   "execution_count": 1,
   "id": "2041c36e",
   "metadata": {},
   "outputs": [],
   "source": [
    "from IPython.core.interactiveshell import InteractiveShell\n",
    "InteractiveShell.ast_node_interactivity=\"all\""
   ]
  },
  {
   "cell_type": "code",
   "execution_count": 2,
   "id": "aea2e892",
   "metadata": {},
   "outputs": [],
   "source": [
    "from urllib.request import urlopen\n",
    "import bs4"
   ]
  },
  {
   "cell_type": "code",
   "execution_count": 8,
   "id": "1a260fd2",
   "metadata": {},
   "outputs": [],
   "source": [
    "url = 'https://translate.google.com/m?sl=auto&tl=en&hl=ko&q=%EC%9A%B0%EC%84%A0%EC%9D%80+%EC%95%9E%EC%84%9C+%EA%B3%84%ED%9A%8D%ED%96%88%EB%8D%98+%EB%8C%80%EB%A1%9C+%ED%94%84%EB%A1%9C%ED%95%84+%EB%AA%A8%EB%8D%B8%EC%9D%84+%EB%A7%8C%EB%93%A4%EC%96%B4%EB%B3%B4%EC%9E%90.'\n",
    "\n",
    "html = urlopen(url)\n",
    "bs_obj = bs4.BeautifulSoup(html, 'html.parser')\n",
    "translated_txt = bs_obj.select_one(\".result-container\").text.strip()"
   ]
  },
  {
   "cell_type": "code",
   "execution_count": 9,
   "id": "398d4458",
   "metadata": {},
   "outputs": [
    {
     "data": {
      "text/plain": [
       "\"First, let's create a profile model as planned previously.\""
      ]
     },
     "execution_count": 9,
     "metadata": {},
     "output_type": "execute_result"
    }
   ],
   "source": [
    "translated_txt"
   ]
  }
 ],
 "metadata": {
  "kernelspec": {
   "display_name": "Python 3 (ipykernel)",
   "language": "python",
   "name": "python3"
  },
  "language_info": {
   "codemirror_mode": {
    "name": "ipython",
    "version": 3
   },
   "file_extension": ".py",
   "mimetype": "text/x-python",
   "name": "python",
   "nbconvert_exporter": "python",
   "pygments_lexer": "ipython3",
   "version": "3.10.9"
  }
 },
 "nbformat": 4,
 "nbformat_minor": 5
}
